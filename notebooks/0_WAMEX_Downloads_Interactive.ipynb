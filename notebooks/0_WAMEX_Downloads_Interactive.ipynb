{
 "cells": [
  {
   "cell_type": "markdown",
   "metadata": {},
   "source": [
    "This notebook downloads all WAMEX reports within a defined region."
   ]
  },
  {
   "cell_type": "markdown",
   "metadata": {},
   "source": [
    "## WAMEX Database"
   ]
  },
  {
   "cell_type": "markdown",
   "metadata": {},
   "source": [
    "[https://www.dmp.wa.gov.au/WAMEX-Minerals-Exploration-1476.aspx](https://www.dmp.wa.gov.au/WAMEX-Minerals-Exploration-1476.aspx)"
   ]
  },
  {
   "cell_type": "markdown",
   "metadata": {},
   "source": [
    " - Western Australian Mineral Exploration Reports Database\n",
    " - Stores open-file reports (annual mineral exploration data and reports (which is required by WA legislation) that have passed 5 year period of confidentiality)\n",
    " - Mineral exploration reports held by the department for five years may be released to the public, under Regulation 96(4) of the Mining Regulations 1981, the ‘Sunset Clause’.\n",
    "\n",
    " - Each year from early March, the proposed list of reports planned for release are published on the department's website, Mining Notices of the West Australian and the Kalgoorlie Miner. There is a period of two months during which the current tenement holders can study the list and object in writing to the release of any report. By May of that year, the GSWA will release the reports that have no objections."
   ]
  },
  {
   "cell_type": "markdown",
   "metadata": {},
   "source": [
    "## Ways to access these reports:"
   ]
  },
  {
   "cell_type": "markdown",
   "metadata": {},
   "source": [
    " - GeoVIEW [https://geoview.dmp.wa.gov.au/geoview/?Viewer=GeoVIEW&layerTheme=WAMEX&Module=WAMEX](https://geoview.dmp.wa.gov.au/geoview/?Viewer=GeoVIEW&layerTheme=WAMEX&Module=WAMEX)\n",
    " - drillcore.shp from USB products (2019 version of links are outdated)\n",
    " - Exploration_Reports.shp from online data repository [https://dasc.dmirs.wa.gov.au/](https://dasc.dmirs.wa.gov.au/)\n",
    " - Using this jupyter notebook (Loop Server x CloudStor)"
   ]
  },
  {
   "cell_type": "markdown",
   "metadata": {},
   "source": [
    "## jupyter notebook (Loop Server X CloudStor)"
   ]
  },
  {
   "cell_type": "markdown",
   "metadata": {},
   "source": [
    "[CloudStor_Link](https://cloudstor.aarnet.edu.au/plus/apps/files/?dir=/Shared/LOOP-MinExCRC&fileid=4302153105) (contains reports up to May 9, 2019) <br>"
   ]
  },
  {
   "cell_type": "code",
   "execution_count": null,
   "metadata": {
    "scrolled": true
   },
   "outputs": [],
   "source": [
    "from dh2loop import wamex\n",
    "from ipyleaflet import Map, basemaps, GeoJSON, LayersControl, DrawControl,WMSLayer\n",
    "from ipywidgets import Label\n",
    "import ipywidgets as widgets"
   ]
  },
  {
   "cell_type": "markdown",
   "metadata": {},
   "source": [
    "## Draw the region of interest"
   ]
  },
  {
   "cell_type": "code",
   "execution_count": null,
   "metadata": {
    "scrolled": true
   },
   "outputs": [],
   "source": [
    "wms_drillholes = WMSLayer(\n",
    "    url='https://www.loopwms.xyz/geoserver/loop/wms?',\n",
    "    layers='loop:collar_4326',\n",
    "    format='image/png',\n",
    "    transparent=True,\n",
    "    attribution='Drilhole collar from GSWA',\n",
    "    name='drillhole collars'\n",
    ")\n",
    "    \n",
    "wms_geol = WMSLayer(\n",
    "    url='https://www.loopwms.xyz/geoserver/loop/wms?',\n",
    "    layers='loop:2_5m_interpgeop15_4326',\n",
    "    format='image/png',\n",
    "    transparent=True,\n",
    "    opacity=0.4,\n",
    "    attribution='Geology data from GSWA',\n",
    "    name='geology'\n",
    ")\n",
    "m =Map(basemap=basemaps.OpenTopoMap, center=(-29,116.5), zoom=8,scroll_wheel_zoom=True)\n",
    "\n",
    "m.add_layer(wms_geol)\n",
    "m.add_layer(wms_drillholes)\n",
    "\n",
    "m.add_control(LayersControl())\n",
    "dc = DrawControl(rectangle={'shapeOptions': {'color': '#0000FF'}})\n",
    "m.add_control(dc)\n",
    "m"
   ]
  },
  {
   "cell_type": "markdown",
   "metadata": {},
   "source": [
    "If you do not see any map:"
   ]
  },
  {
   "cell_type": "code",
   "execution_count": null,
   "metadata": {
    "scrolled": true
   },
   "outputs": [],
   "source": [
    "!conda install -c conda-forge ipyleaflet -y\n",
    "!jupyter nbextension enable --py --sys-prefix ipyleaflet"
   ]
  },
  {
   "cell_type": "markdown",
   "metadata": {},
   "source": [
    "### Run to clear rectangle and draw again:"
   ]
  },
  {
   "cell_type": "code",
   "execution_count": null,
   "metadata": {
    "scrolled": true
   },
   "outputs": [],
   "source": [
    "dc.clear()"
   ]
  },
  {
   "cell_type": "markdown",
   "metadata": {},
   "source": [
    "## Download reports"
   ]
  },
  {
   "cell_type": "code",
   "execution_count": null,
   "metadata": {
    "scrolled": false
   },
   "outputs": [],
   "source": [
    "bounds=GeoJSON(data=dc.last_draw)\n",
    "wamex.get_reports (bounds)"
   ]
  },
  {
   "cell_type": "markdown",
   "metadata": {},
   "source": [
    "### If you are not able to select the region of interest interactively, manual override can be done below:"
   ]
  },
  {
   "cell_type": "code",
   "execution_count": null,
   "metadata": {},
   "outputs": [],
   "source": [
    "minlong=str(121.2)\n",
    "maxlong=str(122.89)\n",
    "minlat=str(-21.04)\n",
    "maxlat=str(-21.03)\n",
    "bounds=(\"GeoJSON(data={'type': 'Feature', 'properties': {'style': {'stroke': True, 'color': '#0000FF', 'weight': 4, 'opacity': 0.5, 'fill': True, 'fillColor': None, 'fillOpacity': 0.2, 'clickable': True}}, 'geometry': {'type': 'Polygon', 'coordinates': [[[\"\n",
    "        +minlong+\", \"+minlat+\"], [\"\n",
    "        +minlong+\", \"+maxlat+\"], [\"\n",
    "        +maxlong+\" \"+maxlat+\"], [\"\n",
    "        +maxlong+\", \"+minlat+\"], [\"\n",
    "        +minlong+\", \"+minlat+\"]]]}})\")"
   ]
  },
  {
   "cell_type": "code",
   "execution_count": null,
   "metadata": {
    "scrolled": true
   },
   "outputs": [],
   "source": [
    "wamex.get_reports (bounds)"
   ]
  },
  {
   "cell_type": "code",
   "execution_count": null,
   "metadata": {},
   "outputs": [],
   "source": []
  }
 ],
 "metadata": {
  "kernelspec": {
   "display_name": "Python 3 (ipykernel)",
   "language": "python",
   "name": "python3"
  },
  "language_info": {
   "codemirror_mode": {
    "name": "ipython",
    "version": 3
   },
   "file_extension": ".py",
   "mimetype": "text/x-python",
   "name": "python",
   "nbconvert_exporter": "python",
   "pygments_lexer": "ipython3",
   "version": "3.9.7"
  }
 },
 "nbformat": 4,
 "nbformat_minor": 4
}
